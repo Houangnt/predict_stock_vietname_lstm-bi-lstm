{
 "cells": [
  {
   "cell_type": "code",
   "execution_count": 4,
   "metadata": {},
   "outputs": [
    {
     "name": "stdout",
     "output_type": "stream",
     "text": [
      "\u001b[31mERROR: Could not find a version that satisfies the requirement finbert (from versions: none)\u001b[0m\u001b[31m\n",
      "\u001b[0m\u001b[31mERROR: No matching distribution found for finbert\u001b[0m\u001b[31m\n",
      "\u001b[0m"
     ]
    }
   ],
   "source": [
    "! pip install finbert"
   ]
  },
  {
   "cell_type": "code",
   "execution_count": 5,
   "metadata": {},
   "outputs": [
    {
     "name": "stdout",
     "output_type": "stream",
     "text": [
      "Requirement already satisfied: pandas in /Users/ronny/Project test/finanl_predict 5/.venv/lib/python3.12/site-packages (2.2.1)\n",
      "Requirement already satisfied: numpy<2,>=1.26.0 in /Users/ronny/Project test/finanl_predict 5/.venv/lib/python3.12/site-packages (from pandas) (1.26.4)\n",
      "Requirement already satisfied: python-dateutil>=2.8.2 in /Users/ronny/Project test/finanl_predict 5/.venv/lib/python3.12/site-packages (from pandas) (2.9.0.post0)\n",
      "Requirement already satisfied: pytz>=2020.1 in /Users/ronny/Project test/finanl_predict 5/.venv/lib/python3.12/site-packages (from pandas) (2024.1)\n",
      "Requirement already satisfied: tzdata>=2022.7 in /Users/ronny/Project test/finanl_predict 5/.venv/lib/python3.12/site-packages (from pandas) (2024.1)\n",
      "Requirement already satisfied: six>=1.5 in /Users/ronny/Project test/finanl_predict 5/.venv/lib/python3.12/site-packages (from python-dateutil>=2.8.2->pandas) (1.16.0)\n"
     ]
    }
   ],
   "source": [
    "! pip install pandas"
   ]
  },
  {
   "cell_type": "code",
   "execution_count": 6,
   "metadata": {},
   "outputs": [
    {
     "name": "stdout",
     "output_type": "stream",
     "text": [
      "Requirement already satisfied: torch in /Users/ronny/Project test/finanl_predict 5/.venv/lib/python3.12/site-packages (2.2.2)\n",
      "Requirement already satisfied: torchvision in /Users/ronny/Project test/finanl_predict 5/.venv/lib/python3.12/site-packages (0.17.2)\n",
      "Requirement already satisfied: torchaudio in /Users/ronny/Project test/finanl_predict 5/.venv/lib/python3.12/site-packages (2.2.2)\n",
      "Requirement already satisfied: filelock in /Users/ronny/Project test/finanl_predict 5/.venv/lib/python3.12/site-packages (from torch) (3.13.3)\n",
      "Requirement already satisfied: typing-extensions>=4.8.0 in /Users/ronny/Project test/finanl_predict 5/.venv/lib/python3.12/site-packages (from torch) (4.11.0)\n",
      "Requirement already satisfied: sympy in /Users/ronny/Project test/finanl_predict 5/.venv/lib/python3.12/site-packages (from torch) (1.12)\n",
      "Requirement already satisfied: networkx in /Users/ronny/Project test/finanl_predict 5/.venv/lib/python3.12/site-packages (from torch) (3.3)\n",
      "Requirement already satisfied: jinja2 in /Users/ronny/Project test/finanl_predict 5/.venv/lib/python3.12/site-packages (from torch) (3.1.3)\n",
      "Requirement already satisfied: fsspec in /Users/ronny/Project test/finanl_predict 5/.venv/lib/python3.12/site-packages (from torch) (2024.3.1)\n",
      "Requirement already satisfied: numpy in /Users/ronny/Project test/finanl_predict 5/.venv/lib/python3.12/site-packages (from torchvision) (1.26.4)\n",
      "Requirement already satisfied: pillow!=8.3.*,>=5.3.0 in /Users/ronny/Project test/finanl_predict 5/.venv/lib/python3.12/site-packages (from torchvision) (10.3.0)\n",
      "Requirement already satisfied: MarkupSafe>=2.0 in /Users/ronny/Project test/finanl_predict 5/.venv/lib/python3.12/site-packages (from jinja2->torch) (2.1.5)\n",
      "Requirement already satisfied: mpmath>=0.19 in /Users/ronny/Project test/finanl_predict 5/.venv/lib/python3.12/site-packages (from sympy->torch) (1.3.0)\n",
      "Requirement already satisfied: yfinance in /Users/ronny/Project test/finanl_predict 5/.venv/lib/python3.12/site-packages (0.2.37)\n",
      "Requirement already satisfied: pandas>=1.3.0 in /Users/ronny/Project test/finanl_predict 5/.venv/lib/python3.12/site-packages (from yfinance) (2.2.1)\n",
      "Requirement already satisfied: numpy>=1.16.5 in /Users/ronny/Project test/finanl_predict 5/.venv/lib/python3.12/site-packages (from yfinance) (1.26.4)\n",
      "Requirement already satisfied: requests>=2.31 in /Users/ronny/Project test/finanl_predict 5/.venv/lib/python3.12/site-packages (from yfinance) (2.31.0)\n",
      "Requirement already satisfied: multitasking>=0.0.7 in /Users/ronny/Project test/finanl_predict 5/.venv/lib/python3.12/site-packages (from yfinance) (0.0.11)\n",
      "Requirement already satisfied: lxml>=4.9.1 in /Users/ronny/Project test/finanl_predict 5/.venv/lib/python3.12/site-packages (from yfinance) (5.2.1)\n",
      "Requirement already satisfied: appdirs>=1.4.4 in /Users/ronny/Project test/finanl_predict 5/.venv/lib/python3.12/site-packages (from yfinance) (1.4.4)\n",
      "Requirement already satisfied: pytz>=2022.5 in /Users/ronny/Project test/finanl_predict 5/.venv/lib/python3.12/site-packages (from yfinance) (2024.1)\n",
      "Requirement already satisfied: frozendict>=2.3.4 in /Users/ronny/Project test/finanl_predict 5/.venv/lib/python3.12/site-packages (from yfinance) (2.4.1)\n",
      "Requirement already satisfied: peewee>=3.16.2 in /Users/ronny/Project test/finanl_predict 5/.venv/lib/python3.12/site-packages (from yfinance) (3.17.1)\n",
      "Requirement already satisfied: beautifulsoup4>=4.11.1 in /Users/ronny/Project test/finanl_predict 5/.venv/lib/python3.12/site-packages (from yfinance) (4.12.3)\n",
      "Requirement already satisfied: html5lib>=1.1 in /Users/ronny/Project test/finanl_predict 5/.venv/lib/python3.12/site-packages (from yfinance) (1.1)\n",
      "Requirement already satisfied: soupsieve>1.2 in /Users/ronny/Project test/finanl_predict 5/.venv/lib/python3.12/site-packages (from beautifulsoup4>=4.11.1->yfinance) (2.5)\n",
      "Requirement already satisfied: six>=1.9 in /Users/ronny/Project test/finanl_predict 5/.venv/lib/python3.12/site-packages (from html5lib>=1.1->yfinance) (1.16.0)\n",
      "Requirement already satisfied: webencodings in /Users/ronny/Project test/finanl_predict 5/.venv/lib/python3.12/site-packages (from html5lib>=1.1->yfinance) (0.5.1)\n",
      "Requirement already satisfied: python-dateutil>=2.8.2 in /Users/ronny/Project test/finanl_predict 5/.venv/lib/python3.12/site-packages (from pandas>=1.3.0->yfinance) (2.9.0.post0)\n",
      "Requirement already satisfied: tzdata>=2022.7 in /Users/ronny/Project test/finanl_predict 5/.venv/lib/python3.12/site-packages (from pandas>=1.3.0->yfinance) (2024.1)\n",
      "Requirement already satisfied: charset-normalizer<4,>=2 in /Users/ronny/Project test/finanl_predict 5/.venv/lib/python3.12/site-packages (from requests>=2.31->yfinance) (3.3.2)\n",
      "Requirement already satisfied: idna<4,>=2.5 in /Users/ronny/Project test/finanl_predict 5/.venv/lib/python3.12/site-packages (from requests>=2.31->yfinance) (3.6)\n",
      "Requirement already satisfied: urllib3<3,>=1.21.1 in /Users/ronny/Project test/finanl_predict 5/.venv/lib/python3.12/site-packages (from requests>=2.31->yfinance) (2.2.1)\n",
      "Requirement already satisfied: certifi>=2017.4.17 in /Users/ronny/Project test/finanl_predict 5/.venv/lib/python3.12/site-packages (from requests>=2.31->yfinance) (2024.2.2)\n",
      "Requirement already satisfied: transformers in /Users/ronny/Project test/finanl_predict 5/.venv/lib/python3.12/site-packages (4.39.3)\n",
      "Requirement already satisfied: pandas in /Users/ronny/Project test/finanl_predict 5/.venv/lib/python3.12/site-packages (2.2.1)\n",
      "Requirement already satisfied: filelock in /Users/ronny/Project test/finanl_predict 5/.venv/lib/python3.12/site-packages (from transformers) (3.13.3)\n",
      "Requirement already satisfied: huggingface-hub<1.0,>=0.19.3 in /Users/ronny/Project test/finanl_predict 5/.venv/lib/python3.12/site-packages (from transformers) (0.22.2)\n",
      "Requirement already satisfied: numpy>=1.17 in /Users/ronny/Project test/finanl_predict 5/.venv/lib/python3.12/site-packages (from transformers) (1.26.4)\n",
      "Requirement already satisfied: packaging>=20.0 in /Users/ronny/Project test/finanl_predict 5/.venv/lib/python3.12/site-packages (from transformers) (24.0)\n",
      "Requirement already satisfied: pyyaml>=5.1 in /Users/ronny/Project test/finanl_predict 5/.venv/lib/python3.12/site-packages (from transformers) (6.0.1)\n",
      "Requirement already satisfied: regex!=2019.12.17 in /Users/ronny/Project test/finanl_predict 5/.venv/lib/python3.12/site-packages (from transformers) (2023.12.25)\n",
      "Requirement already satisfied: requests in /Users/ronny/Project test/finanl_predict 5/.venv/lib/python3.12/site-packages (from transformers) (2.31.0)\n",
      "Requirement already satisfied: tokenizers<0.19,>=0.14 in /Users/ronny/Project test/finanl_predict 5/.venv/lib/python3.12/site-packages (from transformers) (0.15.2)\n",
      "Requirement already satisfied: safetensors>=0.4.1 in /Users/ronny/Project test/finanl_predict 5/.venv/lib/python3.12/site-packages (from transformers) (0.4.2)\n",
      "Requirement already satisfied: tqdm>=4.27 in /Users/ronny/Project test/finanl_predict 5/.venv/lib/python3.12/site-packages (from transformers) (4.66.2)\n",
      "Requirement already satisfied: python-dateutil>=2.8.2 in /Users/ronny/Project test/finanl_predict 5/.venv/lib/python3.12/site-packages (from pandas) (2.9.0.post0)\n",
      "Requirement already satisfied: pytz>=2020.1 in /Users/ronny/Project test/finanl_predict 5/.venv/lib/python3.12/site-packages (from pandas) (2024.1)\n",
      "Requirement already satisfied: tzdata>=2022.7 in /Users/ronny/Project test/finanl_predict 5/.venv/lib/python3.12/site-packages (from pandas) (2024.1)\n",
      "Requirement already satisfied: fsspec>=2023.5.0 in /Users/ronny/Project test/finanl_predict 5/.venv/lib/python3.12/site-packages (from huggingface-hub<1.0,>=0.19.3->transformers) (2024.3.1)\n",
      "Requirement already satisfied: typing-extensions>=3.7.4.3 in /Users/ronny/Project test/finanl_predict 5/.venv/lib/python3.12/site-packages (from huggingface-hub<1.0,>=0.19.3->transformers) (4.11.0)\n",
      "Requirement already satisfied: six>=1.5 in /Users/ronny/Project test/finanl_predict 5/.venv/lib/python3.12/site-packages (from python-dateutil>=2.8.2->pandas) (1.16.0)\n",
      "Requirement already satisfied: charset-normalizer<4,>=2 in /Users/ronny/Project test/finanl_predict 5/.venv/lib/python3.12/site-packages (from requests->transformers) (3.3.2)\n",
      "Requirement already satisfied: idna<4,>=2.5 in /Users/ronny/Project test/finanl_predict 5/.venv/lib/python3.12/site-packages (from requests->transformers) (3.6)\n",
      "Requirement already satisfied: urllib3<3,>=1.21.1 in /Users/ronny/Project test/finanl_predict 5/.venv/lib/python3.12/site-packages (from requests->transformers) (2.2.1)\n",
      "Requirement already satisfied: certifi>=2017.4.17 in /Users/ronny/Project test/finanl_predict 5/.venv/lib/python3.12/site-packages (from requests->transformers) (2024.2.2)\n",
      "Requirement already satisfied: torch in /Users/ronny/Project test/finanl_predict 5/.venv/lib/python3.12/site-packages (2.2.2)\n",
      "Requirement already satisfied: torchvision in /Users/ronny/Project test/finanl_predict 5/.venv/lib/python3.12/site-packages (0.17.2)\n",
      "Requirement already satisfied: filelock in /Users/ronny/Project test/finanl_predict 5/.venv/lib/python3.12/site-packages (from torch) (3.13.3)\n",
      "Requirement already satisfied: typing-extensions>=4.8.0 in /Users/ronny/Project test/finanl_predict 5/.venv/lib/python3.12/site-packages (from torch) (4.11.0)\n",
      "Requirement already satisfied: sympy in /Users/ronny/Project test/finanl_predict 5/.venv/lib/python3.12/site-packages (from torch) (1.12)\n",
      "Requirement already satisfied: networkx in /Users/ronny/Project test/finanl_predict 5/.venv/lib/python3.12/site-packages (from torch) (3.3)\n",
      "Requirement already satisfied: jinja2 in /Users/ronny/Project test/finanl_predict 5/.venv/lib/python3.12/site-packages (from torch) (3.1.3)\n",
      "Requirement already satisfied: fsspec in /Users/ronny/Project test/finanl_predict 5/.venv/lib/python3.12/site-packages (from torch) (2024.3.1)\n",
      "Requirement already satisfied: numpy in /Users/ronny/Project test/finanl_predict 5/.venv/lib/python3.12/site-packages (from torchvision) (1.26.4)\n",
      "Requirement already satisfied: pillow!=8.3.*,>=5.3.0 in /Users/ronny/Project test/finanl_predict 5/.venv/lib/python3.12/site-packages (from torchvision) (10.3.0)\n",
      "Requirement already satisfied: MarkupSafe>=2.0 in /Users/ronny/Project test/finanl_predict 5/.venv/lib/python3.12/site-packages (from jinja2->torch) (2.1.5)\n",
      "Requirement already satisfied: mpmath>=0.19 in /Users/ronny/Project test/finanl_predict 5/.venv/lib/python3.12/site-packages (from sympy->torch) (1.3.0)\n",
      "Requirement already satisfied: nltk in /Users/ronny/Project test/finanl_predict 5/.venv/lib/python3.12/site-packages (3.8.1)\n",
      "Requirement already satisfied: click in /Users/ronny/Project test/finanl_predict 5/.venv/lib/python3.12/site-packages (from nltk) (8.1.7)\n",
      "Requirement already satisfied: joblib in /Users/ronny/Project test/finanl_predict 5/.venv/lib/python3.12/site-packages (from nltk) (1.3.2)\n",
      "Requirement already satisfied: regex>=2021.8.3 in /Users/ronny/Project test/finanl_predict 5/.venv/lib/python3.12/site-packages (from nltk) (2023.12.25)\n",
      "Requirement already satisfied: tqdm in /Users/ronny/Project test/finanl_predict 5/.venv/lib/python3.12/site-packages (from nltk) (4.66.2)\n",
      "Requirement already satisfied: textblob in /Users/ronny/Project test/finanl_predict 5/.venv/lib/python3.12/site-packages (0.18.0.post0)\n",
      "Requirement already satisfied: nltk>=3.8 in /Users/ronny/Project test/finanl_predict 5/.venv/lib/python3.12/site-packages (from textblob) (3.8.1)\n",
      "Requirement already satisfied: click in /Users/ronny/Project test/finanl_predict 5/.venv/lib/python3.12/site-packages (from nltk>=3.8->textblob) (8.1.7)\n",
      "Requirement already satisfied: joblib in /Users/ronny/Project test/finanl_predict 5/.venv/lib/python3.12/site-packages (from nltk>=3.8->textblob) (1.3.2)\n",
      "Requirement already satisfied: regex>=2021.8.3 in /Users/ronny/Project test/finanl_predict 5/.venv/lib/python3.12/site-packages (from nltk>=3.8->textblob) (2023.12.25)\n",
      "Requirement already satisfied: tqdm in /Users/ronny/Project test/finanl_predict 5/.venv/lib/python3.12/site-packages (from nltk>=3.8->textblob) (4.66.2)\n",
      "Requirement already satisfied: plotly in /Users/ronny/Project test/finanl_predict 5/.venv/lib/python3.12/site-packages (5.20.0)\n",
      "Requirement already satisfied: tenacity>=6.2.0 in /Users/ronny/Project test/finanl_predict 5/.venv/lib/python3.12/site-packages (from plotly) (8.2.3)\n",
      "Requirement already satisfied: packaging in /Users/ronny/Project test/finanl_predict 5/.venv/lib/python3.12/site-packages (from plotly) (24.0)\n",
      "Requirement already satisfied: scikit-learn in /Users/ronny/Project test/finanl_predict 5/.venv/lib/python3.12/site-packages (1.4.1.post1)\n",
      "Requirement already satisfied: numpy<2.0,>=1.19.5 in /Users/ronny/Project test/finanl_predict 5/.venv/lib/python3.12/site-packages (from scikit-learn) (1.26.4)\n",
      "Requirement already satisfied: scipy>=1.6.0 in /Users/ronny/Project test/finanl_predict 5/.venv/lib/python3.12/site-packages (from scikit-learn) (1.13.0)\n",
      "Requirement already satisfied: joblib>=1.2.0 in /Users/ronny/Project test/finanl_predict 5/.venv/lib/python3.12/site-packages (from scikit-learn) (1.3.2)\n",
      "Requirement already satisfied: threadpoolctl>=2.0.0 in /Users/ronny/Project test/finanl_predict 5/.venv/lib/python3.12/site-packages (from scikit-learn) (3.4.0)\n"
     ]
    }
   ],
   "source": [
    "! pip install torch torchvision torchaudio\n",
    "! pip install yfinance\n",
    "! pip install transformers pandas\n",
    "! pip install torch torchvision\n",
    "! pip install nltk\n",
    "! pip install textblob\n",
    "! pip install plotly\n",
    "! pip install scikit-learn"
   ]
  },
  {
   "cell_type": "code",
   "execution_count": 7,
   "metadata": {},
   "outputs": [
    {
     "data": {
      "text/plain": [
       "\"Forestry exports up 47% in two months\\nVietnam's forestry exports totaled US$2.68 billion in the first two months of 2024, up 47.4% year-on-year, according to the Department of Forestry under the Ministry of Agriculture and Rural Development.\\nMarch 12, 2024 | 09:13 am GMT+7\\nMinistry of Finance wants 50% tax on e-cigarette atomizer\\nMinistry of Finance wants 50% tax on e-cigarette atomizer\\nThe Ministry of Finance has maintained its proposal to impose a 50% Most-Favored Nation (MFN) tariff on electronic atomizer, the device used to heat up liquid solution used for vaping.\\nMarch 12, 2024 | 09:13 am GMT+7\\nPM urges New Zealand firms to boost investment in Vietnam\\nPM urges New Zealand firms to boost investment in Vietnam\\nPrime Minister Pham Minh Chinh urged New Zealand companies to enhance their investment in Vietnam, focusing on innovation, education, and energy sectors.\\nMarch 11, 2024 | 11:00 pm GMT+7\\nVietnam goes past Chile to become second biggest fruit, vegetable exporter to China\\nVietnam goes past Chile to become second biggest fruit, vegetable exporter to China\\nVietnam surpassed Chile to become the second largest fruit and vegetable exporter to China in 2023, thanks to a jump in durian exports.\\nMarch 11, 2024 | 10:06 am GMT+7\\nChỉ còn 200 suất sở hữu vật phẩm giải chạy Việt Nam Hùng Cường\\nChỉ còn 200 suất sở hữu vật phẩm giải chạy Việt Nam Hùng Cường\\nQuảng cáo\\n\\nVietnamese tech talents find homeland has appealing career prospects\\nVietnamese tech talents find homeland has appealing career prospects\\nVietnamese tech workers studying and working abroad are returning home in increasing numbers since they find the country offers more opportunities for career advancement than competitive developed markets.\\nMarch 11, 2024 | 06:00 am GMT+7\\n$1.14B worth of government bonds raised in February\\n$1.14B worth of government bonds raised in February\\nThe Hanoi Stock Exchange (HNX) held 12 auctions of government bonds with a total volume of nearly VND28.2 trillion ($1.1 billion) in Febru\""
      ]
     },
     "execution_count": 7,
     "metadata": {},
     "output_type": "execute_result"
    }
   ],
   "source": [
    "# Đọc file để xem qua cấu trúc dữ liệu\n",
    "file_path = 'vn_economic_newspaper.txt'\n",
    "\n",
    "# Do file có thể khá lớn, chúng ta sẽ đọc một phần của file để hiểu cấu trúc dữ liệu\n",
    "with open(file_path, 'r', encoding='utf-8') as file:\n",
    "    sample_data = file.read(2000)  # Đọc một phần của file để không quá tải\n",
    "\n",
    "sample_data\n"
   ]
  },
  {
   "cell_type": "code",
   "execution_count": 8,
   "metadata": {},
   "outputs": [],
   "source": [
    "import re\n",
    "\n",
    "# Mở và đọc toàn bộ nội dung file\n",
    "with open(file_path, 'r', encoding='utf-8') as file:\n",
    "    full_data = file.read()\n",
    "\n",
    "# Sử dụng biểu thức chính quy để tìm tất cả các tiêu đề lặp lại, đây sẽ là điểm phân cách giữa các bài báo\n",
    "# Giả định rằng mỗi tiêu đề đều theo sau bởi một dòng trống hoặc thời gian (để đối phó với trường hợp tiêu đề cuối cùng)\n",
    "split_pattern = r'(\\n[A-Za-z].*\\n)\\1'\n",
    "\n",
    "# Phân tách dữ liệu sử dụng tiêu đề lặp lại như điểm phân cách\n",
    "articles = re.split(split_pattern, full_data)\n",
    "\n",
    "# Loại bỏ các phần tử trống và kết quả là mỗi phần tử sẽ chứa tiêu đề và nội dung còn lại của bài báo\n",
    "cleaned_articles = [articles[i] + articles[i + 1] for i in range(0, len(articles) - 1, 3)]\n",
    "\n",
    "# Kiểm tra cấu trúc của một vài bài báo sau khi đã xử lý\n",
    "for article in cleaned_articles[:5]:\n",
    "    print(article[:500], '...\\n---\\n')\n",
    "\n",
    "# Chúng ta sẽ kiểm tra cấu trúc của một vài bài báo sau khi xử lý để đảm bảo rằng tiền xử lý diễn ra như mong đợi.\n"
   ]
  },
  {
   "cell_type": "code",
   "execution_count": 9,
   "metadata": {},
   "outputs": [
    {
     "name": "stdout",
     "output_type": "stream",
     "text": [
      "Forestry exports up 47% in two months\n",
      "Vietnam's forestry exports totaled US$2.68 billion in the first two months of 2024, up 47.4% year-on-year, according to the Department of Forestry under the Ministry of Agriculture and Rural Development.\n",
      "March 12, 2024 | 09:13 am GMT+7\n",
      "Title: Ministry of Finance wants 50% tax on e-cigarette atomizer\n",
      "The Ministry of Finance has maintained its proposal to impose a 50% Most-Favored Nation (MFN) tariff on electronic atomizer, the device used to heat up liquid solution used for vaping.\n",
      "March 12, 2024 | 09:13 am GMT+7\n",
      "Title: PM urges New Zealand firms to boost investment in Vietnam\n",
      "Prime Minister Pham Minh Chinh urged New Zealand companies to enhance their investment in Vietnam, focusing on innovation, education, and energy sectors.\n",
      "March 11, 2024 | 11:00 pm GMT+7\n",
      "Title: Vietnam goes past Chile to become second biggest fruit, vegetable exporter to China\n",
      "Vietnam surpassed Chile to become the second largest fruit and vegetable exporter to China in 2023, thanks to a jump in durian exports.\n",
      "March 11, 2024 | 10:06 am GMT+7\n",
      "Title: Chỉ còn 200 suất sở hữu vật phẩm giải chạy Việt Nam Hùng Cường\n",
      "Quảng cáo\n",
      "\n",
      "Title: Vietnamese tech talents find homeland has appealing career prospects\n",
      "Vietnamese tech workers studying and working abroad are returning home in increasing numbers since they find the country offers more opportunities for career advancement than competitive developed markets.\n",
      "March 11, 2024 | 06:00 am GMT+7\n",
      "Title: $1.14B worth of government bonds raised in February\n",
      "The Hanoi Stock Exchange (HNX) held 12 auctions of government bonds with a total volume of nearly VND28.2 trillion ($1.1 billion) in February.\n",
      "March 10, 2024 | 05:46 pm GMT+7\n",
      "\n",
      "Title: Vietnam's ultra-high-net-worth individuals increase by 2.4%\n",
      "The number of ultra-high-net-worth individuals (UHNWIs) in Vietnam with net assets of 30 million or more increased by 2.4% to 752 in 2023, according to Knight Frank’s Wealth Report 2024 published recently.\n",
      "March 9, 2024 | 09:09 am GMT+7\n",
      "Title: PM asks central bank to keep interests low and financial access easier\n",
      "Prime Minister Pham Minh Chinh has tasked the State Bank of Vietnam (SBV) to keep interest rates low and financial access easier for businesses, according to a new directive on Wednesday.\n",
      "March 8, 2024 | 10:08 am GMT+7\n",
      "Title: Labor productivity among biggest 'pain points' for investors in Vietnam\n",
      "Several issues are making foreign investors reluctant to pump more capital in Vietnam include low labor productivity, poor logistics capacity, and inconsistent policy, according to HSBC Vietnam.\n"
     ]
    }
   ],
   "source": [
    "# Cố gắng tìm và loại bỏ các tiêu đề lặp lại một cách đơn giản hơn\n",
    "# Đầu tiên, tách dữ liệu dựa trên dấu xuống dòng để xem xét từng dòng một cách riêng biệt\n",
    "lines = full_data.split('\\n')\n",
    "\n",
    "# Khởi tạo danh sách mới cho dữ liệu đã xử lý\n",
    "processed_data = []\n",
    "skip_next = False\n",
    "\n",
    "for i in range(len(lines) - 1):\n",
    "    if skip_next:\n",
    "        # Bỏ qua dòng này vì nó là một phần của tiêu đề lặp lại\n",
    "        skip_next = False\n",
    "        continue\n",
    "    # Kiểm tra nếu dòng hiện tại và dòng tiếp theo giống nhau (tiêu đề lặp lại)\n",
    "    if lines[i] == lines[i + 1]:\n",
    "        processed_data.append('Title: ' + lines[i])  # Thêm tiêu đề một lần\n",
    "        skip_next = True  # Đánh dấu để bỏ qua dòng tiếp theo vì nó là một bản sao\n",
    "    else:\n",
    "        processed_data.append(lines[i])\n",
    "\n",
    "# Đối với mỗi bài báo, giờ đây chúng ta cần định dạng lại để thêm các nhãn cho mô tả và thời gian\n",
    "# Ví dụ, chúng ta có thể tìm kiếm mẫu thời gian để phân biệt các phần\n",
    "\n",
    "# Hãy xem qua dữ liệu đã xử lý:\n",
    "for line in processed_data[:30]:  # Hiển thị một số dòng đầu tiên\n",
    "    print(line)\n",
    "\n",
    "# Lưu ý: Các bước tiếp theo như việc đánh dấu mô tả và thời gian cần thông tin thêm từ bạn để hoàn thiện\n"
   ]
  },
  {
   "cell_type": "code",
   "execution_count": 10,
   "metadata": {},
   "outputs": [
    {
     "name": "stdout",
     "output_type": "stream",
     "text": [
      "Title: Ministry of Finance wants 50% tax on e-cigarette atomizer\n",
      "Description: Forestry exports up 47% in two months\n",
      "Vietnam's forestry exports totaled US$2.68 billion in the firs... \n",
      "Time: March 12, 2024 | 09:13 am GMT+7\n",
      "---\n",
      "\n",
      "Title: PM urges New Zealand firms to boost investment in Vietnam\n",
      "Description: Prime Minister Pham Minh Chinh urged New Zealand companies to enhance their investment in Vietnam, f... \n",
      "Time: March 11, 2024 | 11:00 pm GMT+7\n",
      "---\n",
      "\n",
      "Title: Vietnam goes past Chile to become second biggest fruit, vegetable exporter to China\n",
      "Description: Vietnam surpassed Chile to become the second largest fruit and vegetable exporter to China in 2023, ... \n",
      "Time: March 11, 2024 | 10:06 am GMT+7\n",
      "---\n",
      "\n",
      "Title: Chỉ còn 200 suất sở hữu vật phẩm giải chạy Việt Nam Hùng Cường\n",
      "Description: Quảng cáo\n",
      "\n",
      "... \n",
      "Time: \n",
      "---\n",
      "\n",
      "Title: Vietnamese tech talents find homeland has appealing career prospects\n",
      "Description: Vietnamese tech workers studying and working abroad are returning home in increasing numbers since t... \n",
      "Time: March 11, 2024 | 06:00 am GMT+7\n",
      "---\n",
      "\n"
     ]
    }
   ],
   "source": [
    "# Sử dụng biểu thức chính quy để tìm kiếm và đánh dấu thời gian trong từng bài báo\n",
    "time_pattern = r'(\\bJanuary|\\bFebruary|\\bMarch|\\bApril|\\bMay|\\bJune|\\bJuly|\\bAugust|\\bSeptember|\\bOctober|\\bNovember|\\bDecember)\\s\\d{1,2},\\s\\d{4}\\s\\|\\s\\d{2}:\\d{2}\\s(am|pm)\\sGMT\\+7'\n",
    "\n",
    "# Khởi tạo danh sách mới cho dữ liệu đã được đánh dấu thêm\n",
    "marked_data = []\n",
    "\n",
    "for line in processed_data:\n",
    "    # Tìm và đánh dấu thời gian\n",
    "    if re.search(time_pattern, line):\n",
    "        marked_line = re.sub(time_pattern, r'Time: \\g<0>', line)\n",
    "        marked_data.append(marked_line)\n",
    "    else:\n",
    "        marked_data.append(line)\n",
    "\n",
    "# Để đánh dấu mô tả, chúng ta cần xác định vị trí của nó giữa tiêu đề và thời gian\n",
    "# Chúng ta sẽ làm điều này bằng cách tạo một cấu trúc mới cho mỗi bài báo, nơi mỗi bài báo được chứa trong một dictionary\n",
    "final_articles = []\n",
    "article = {\"Title\": \"\", \"Description\": \"\", \"Time\": \"\"}\n",
    "\n",
    "for line in marked_data:\n",
    "    if line.startswith(\"Title: \"):\n",
    "        # Nếu đây là bắt đầu của một bài báo mới và bài trước đó đã được xử lý, thêm nó vào danh sách\n",
    "        if article[\"Title\"]:  # Kiểm tra xem đã có tiêu đề chưa\n",
    "            final_articles.append(article)\n",
    "            article = {\"Title\": \"\", \"Description\": \"\", \"Time\": \"\"}\n",
    "        article[\"Title\"] = line[len(\"Title: \"):]\n",
    "    elif line.startswith(\"Time: \"):\n",
    "        article[\"Time\"] = line[len(\"Time: \"):]\n",
    "    else:\n",
    "        # Mô tả sẽ là phần còn lại giữa tiêu đề và thời gian\n",
    "        article[\"Description\"] += line + \"\\n\"\n",
    "\n",
    "# Đừng quên thêm bài viết cuối cùng vào danh sách sau khi thoát khỏi vòng lặp\n",
    "if article[\"Title\"]:\n",
    "    final_articles.append(article)\n",
    "\n",
    "# Hiển thị cấu trúc của một vài bài báo đầu tiên để kiểm tra\n",
    "for article in final_articles[:5]:\n",
    "    print(f\"Title: {article['Title']}\\nDescription: {article['Description'][:100]}... \\nTime: {article['Time']}\\n---\\n\")\n"
   ]
  },
  {
   "cell_type": "code",
   "execution_count": 11,
   "metadata": {},
   "outputs": [
    {
     "name": "stdout",
     "output_type": "stream",
     "text": [
      "Dữ liệu đã được lưu thành công vào vn_economic_newspaper_from_vnexpress.csv\n"
     ]
    }
   ],
   "source": [
    "import pandas as pd\n",
    "\n",
    "# Chuyển đổi dữ liệu cuối cùng thành DataFrame\n",
    "df_final_articles = pd.DataFrame(final_articles)\n",
    "\n",
    "# Lưu DataFrame vào file CSV\n",
    "csv_file_path = 'vn_economic_newspaper_from_vnexpress.csv'\n",
    "df_final_articles.to_csv(csv_file_path, index=False, encoding='utf-8')\n",
    "\n",
    "print(f\"Dữ liệu đã được lưu thành công vào {csv_file_path}\")\n"
   ]
  },
  {
   "cell_type": "code",
   "execution_count": 12,
   "metadata": {},
   "outputs": [
    {
     "data": {
      "text/html": [
       "<div>\n",
       "<style scoped>\n",
       "    .dataframe tbody tr th:only-of-type {\n",
       "        vertical-align: middle;\n",
       "    }\n",
       "\n",
       "    .dataframe tbody tr th {\n",
       "        vertical-align: top;\n",
       "    }\n",
       "\n",
       "    .dataframe thead th {\n",
       "        text-align: right;\n",
       "    }\n",
       "</style>\n",
       "<table border=\"1\" class=\"dataframe\">\n",
       "  <thead>\n",
       "    <tr style=\"text-align: right;\">\n",
       "      <th></th>\n",
       "      <th>Title</th>\n",
       "      <th>Description</th>\n",
       "      <th>Time</th>\n",
       "    </tr>\n",
       "  </thead>\n",
       "  <tbody>\n",
       "    <tr>\n",
       "      <th>0</th>\n",
       "      <td>Ministry of Finance wants 50% tax on e-cigaret...</td>\n",
       "      <td>Forestry exports up 47% in two months\\nVietnam...</td>\n",
       "      <td>2024-03-12</td>\n",
       "    </tr>\n",
       "    <tr>\n",
       "      <th>1</th>\n",
       "      <td>PM urges New Zealand firms to boost investment...</td>\n",
       "      <td>Prime Minister Pham Minh Chinh urged New Zeala...</td>\n",
       "      <td>2024-03-11</td>\n",
       "    </tr>\n",
       "    <tr>\n",
       "      <th>2</th>\n",
       "      <td>Vietnam goes past Chile to become second bigge...</td>\n",
       "      <td>Vietnam surpassed Chile to become the second l...</td>\n",
       "      <td>2024-03-11</td>\n",
       "    </tr>\n",
       "    <tr>\n",
       "      <th>3</th>\n",
       "      <td>Chỉ còn 200 suất sở hữu vật phẩm giải chạy Việ...</td>\n",
       "      <td>Quảng cáo\\n\\n</td>\n",
       "      <td>NaT</td>\n",
       "    </tr>\n",
       "    <tr>\n",
       "      <th>4</th>\n",
       "      <td>Vietnamese tech talents find homeland has appe...</td>\n",
       "      <td>Vietnamese tech workers studying and working a...</td>\n",
       "      <td>2024-03-11</td>\n",
       "    </tr>\n",
       "  </tbody>\n",
       "</table>\n",
       "</div>"
      ],
      "text/plain": [
       "                                               Title  \\\n",
       "0  Ministry of Finance wants 50% tax on e-cigaret...   \n",
       "1  PM urges New Zealand firms to boost investment...   \n",
       "2  Vietnam goes past Chile to become second bigge...   \n",
       "3  Chỉ còn 200 suất sở hữu vật phẩm giải chạy Việ...   \n",
       "4  Vietnamese tech talents find homeland has appe...   \n",
       "\n",
       "                                         Description        Time  \n",
       "0  Forestry exports up 47% in two months\\nVietnam...  2024-03-12  \n",
       "1  Prime Minister Pham Minh Chinh urged New Zeala...  2024-03-11  \n",
       "2  Vietnam surpassed Chile to become the second l...  2024-03-11  \n",
       "3                                      Quảng cáo\\n\\n         NaT  \n",
       "4  Vietnamese tech workers studying and working a...  2024-03-11  "
      ]
     },
     "execution_count": 12,
     "metadata": {},
     "output_type": "execute_result"
    }
   ],
   "source": [
    "data = pd.read_csv('vn_economic_newspaper_from_vnexpress.csv')\n",
    "\n",
    "# Tách phần ngày tháng ra từ cột 'Time', loại bỏ thông tin về giờ và múi giờ\n",
    "data['Time'] = data['Time'].str.split('|').str[0].str.strip()\n",
    "\n",
    "# Chuyển đổi chuỗi ngày tháng thành đối tượng datetime\n",
    "data['Time'] = pd.to_datetime(data['Time'], format='%B %d, %Y', errors='coerce')\n",
    "\n",
    "# Định dạng lại ngày tháng về dạng YYYY-MM-DD\n",
    "data['Time'] = data['Time'].dt.date\n",
    "\n",
    "# Hiển thị một số hàng đầu tiên để kiểm tra\n",
    "data.head()\n"
   ]
  },
  {
   "cell_type": "code",
   "execution_count": 13,
   "metadata": {},
   "outputs": [
    {
     "data": {
      "text/plain": [
       "'vn_economic_newspaper_from_vnexpress_preprocessed.csv'"
      ]
     },
     "execution_count": 13,
     "metadata": {},
     "output_type": "execute_result"
    }
   ],
   "source": [
    "# Save the preprocessed data to a new CSV file\n",
    "new_file_path = 'vn_economic_newspaper_from_vnexpress_preprocessed.csv'\n",
    "data.to_csv(new_file_path, index=False)\n",
    "\n",
    "# Provide the path to the new file\n",
    "new_file_path\n"
   ]
  },
  {
   "cell_type": "code",
   "execution_count": 14,
   "metadata": {},
   "outputs": [],
   "source": [
    "import pandas as pd\n",
    "from datetime import datetime\n",
    "\n",
    "# Đọc nội dung tệp\n",
    "file_path = 'vietnamtimes_economic_paper.txt'\n",
    "with open(file_path, 'r', encoding='utf-8') as file:\n",
    "    content = file.readlines()\n",
    "\n",
    "# Hàm xử lý nội dung và trích xuất thông tin mong muốn\n",
    "def parse_content_fixed_date(lines):\n",
    "    articles = []\n",
    "    i = 0\n",
    "    while i < len(lines):\n",
    "        # Bỏ qua tiêu đề bị lặp\n",
    "        if i + 1 < len(lines) and lines[i] == lines[i + 1]:\n",
    "            i += 1\n",
    "        # Trích xuất ngày tháng và chuyển đổi thành đối tượng datetime\n",
    "        elif 'Economy |' in lines[i] or 'Focus |' in lines[i] or 'Make in Vietnam |' in lines[i]:\n",
    "            try:\n",
    "                date_str = lines[i].split('|')[1].strip()\n",
    "                date_obj = datetime.strptime(date_str, \"%B %d, %Y\")\n",
    "            except ValueError:\n",
    "                date_obj = datetime(1900, 1, 1)\n",
    "            title = lines[i-1].strip()\n",
    "            description = lines[i+1].strip() if i + 1 < len(lines) else \"\"\n",
    "            articles.append({\n",
    "                \"Title\": title,\n",
    "                \"Description\": description,\n",
    "                \"Time\": date_obj\n",
    "            })\n",
    "            i += 2\n",
    "        else:\n",
    "            i += 1\n",
    "    return articles\n",
    "\n",
    "# Xử lý nội dung và tạo DataFrame\n",
    "articles_data_fixed = parse_content_fixed_date(content)\n",
    "df_articles_fixed = pd.DataFrame(articles_data_fixed)\n",
    "\n",
    "# Lưu DataFrame vào tệp CSV\n",
    "output_file_path = 'vn_economic_newspaper_from_vietnamtimes.csv'\n",
    "df_articles_fixed.to_csv(output_file_path, index=False)\n"
   ]
  },
  {
   "cell_type": "code",
   "execution_count": 15,
   "metadata": {},
   "outputs": [
    {
     "name": "stdout",
     "output_type": "stream",
     "text": [
      "Bộ dữ liệu đã gộp được lưu tại: merged_vn_economic_paper_data.csv\n"
     ]
    }
   ],
   "source": [
    "import pandas as pd\n",
    "\n",
    "preprocessed_data_path = 'vn_economic_newspaper_from_vnexpress_preprocessed.csv'\n",
    "updated_data_path = 'vn_economic_newspaper_from_vietnamtimes.csv'\n",
    "\n",
    "# Nạp bộ dữ liệu đã được tiền xử lý\n",
    "preprocessed_data = pd.read_csv(preprocessed_data_path)\n",
    "# Nạp bộ dữ liệu mới được cập nhật\n",
    "updated_data = pd.read_csv(updated_data_path)\n",
    "\n",
    "# Đảm bảo tính nhất quán về tên cột cho 'Time'\n",
    "if 'Date' in updated_data.columns:\n",
    "    updated_data.rename(columns={'Date': 'Time'}, inplace=True)\n",
    "\n",
    "# Gộp hai bộ dữ liệu\n",
    "merged_data = pd.concat([preprocessed_data, updated_data], ignore_index=True)\n",
    "\n",
    "# Lưu bộ dữ liệu đã gộp vào một tệp mới\n",
    "merged_data_path = 'merged_vn_economic_paper_data.csv'\n",
    "merged_data.to_csv(merged_data_path, index=False)\n",
    "\n",
    "print(f\"Bộ dữ liệu đã gộp được lưu tại: {merged_data_path}\")\n"
   ]
  },
  {
   "cell_type": "code",
   "execution_count": 16,
   "metadata": {},
   "outputs": [
    {
     "name": "stderr",
     "output_type": "stream",
     "text": [
      "/Users/ronny/Project test/finanl_predict 5/.venv/lib/python3.12/site-packages/tqdm/auto.py:21: TqdmWarning: IProgress not found. Please update jupyter and ipywidgets. See https://ipywidgets.readthedocs.io/en/stable/user_install.html\n",
      "  from .autonotebook import tqdm as notebook_tqdm\n",
      "[nltk_data] Error loading vader_lexicon: <urlopen error [SSL:\n",
      "[nltk_data]     CERTIFICATE_VERIFY_FAILED] certificate verify failed:\n",
      "[nltk_data]     unable to get local issuer certificate (_ssl.c:1000)>\n"
     ]
    },
    {
     "name": "stdout",
     "output_type": "stream",
     "text": [
      "Kết quả phân tích cảm xúc đã được lưu vào vn_economic_articles_all_sentiments.csv\n"
     ]
    }
   ],
   "source": [
    "import pandas as pd\n",
    "import nltk\n",
    "from nltk.sentiment.vader import SentimentIntensityAnalyzer\n",
    "from textblob import TextBlob\n",
    "from transformers import AutoModelForSequenceClassification, AutoTokenizer\n",
    "import torch\n",
    "\n",
    "# Đảm bảo rằng lexicon của VADER đã được tải xuống\n",
    "nltk.download('vader_lexicon')\n",
    "\n",
    "# Đọc dữ liệu\n",
    "combined_df = pd.read_csv('merged_vn_economic_paper_data.csv')\n",
    "\n",
    "# Khởi tạo SentimentIntensityAnalyzer cho VADER\n",
    "sid = SentimentIntensityAnalyzer()\n",
    "\n",
    "# Áp dụng hàm phân tích cảm xúc VADER\n",
    "combined_df['Vader_Sentiment'] = combined_df['Description'].apply(lambda text: sid.polarity_scores(text)['compound'])\n",
    "\n",
    "# Áp dụng hàm phân tích cảm xúc TextBlob\n",
    "combined_df['TextBlob_Sentiment'] = combined_df['Description'].apply(lambda text: TextBlob(text).sentiment.polarity)\n",
    "\n",
    "# Khởi tạo tokenizer và mô hình cho FinBERT\n",
    "tokenizer = AutoTokenizer.from_pretrained('yiyanghkust/finbert-tone')\n",
    "model = AutoModelForSequenceClassification.from_pretrained('yiyanghkust/finbert-tone')\n",
    "\n",
    "def finbert_sentiment(text):\n",
    "    inputs = tokenizer(text, return_tensors='pt', max_length=512, truncation=True)\n",
    "    with torch.no_grad():\n",
    "        logits = model(**inputs).logits\n",
    "    sentiment = logits.softmax(dim=1).argmax().item()\n",
    "    # Chuyển đổi số nguyên sang nhãn cảm xúc: 0 - negative, 1 - neutral, 2 - positive\n",
    "    return ['negative', 'neutral', 'positive'][sentiment]\n",
    "\n",
    "# Áp dụng hàm phân tích cảm xúc FinBERT\n",
    "combined_df['FinBERT_Sentiment'] = combined_df['Description'].apply(finbert_sentiment)\n",
    "\n",
    "# Lưu DataFrame đã cập nhật vào một file CSV mới\n",
    "updated_csv_path = 'vn_economic_articles_all_sentiments.csv'\n",
    "combined_df.to_csv(updated_csv_path, index=False)\n",
    "\n",
    "print(f\"Kết quả phân tích cảm xúc đã được lưu vào {updated_csv_path}\")\n"
   ]
  },
  {
   "cell_type": "code",
   "execution_count": 17,
   "metadata": {},
   "outputs": [
    {
     "data": {
      "text/plain": [
       "'processed_financial_sentiment_data_combined.csv'"
      ]
     },
     "execution_count": 17,
     "metadata": {},
     "output_type": "execute_result"
    }
   ],
   "source": [
    "import pandas as pd\n",
    "from sklearn.preprocessing import MinMaxScaler\n",
    "\n",
    "# Định nghĩa đường dẫn cho các tệp\n",
    "file_paths = {\n",
    "    'e1vfvn30': 'E1VFVN30 ETF Stock Price History.csv',\n",
    "    'fueip100': 'FUEIP100 ETF Stock Price History.csv',\n",
    "    'fuemav30': 'FUEMAV30 ETF Stock Price History.csv',\n",
    "    'fuessv30': 'FUESSV30 ETF Stock Price History.csv',\n",
    "    'fuessv50': 'FUESSV50 ETF Stock Price History.csv',\n",
    "    'fuessvfl': 'FUESSVFL ETF Stock Price History.csv',\n",
    "    'fuevfvd': 'FUEVFVND ETF Stock Price History.csv',\n",
    "    'fuevn100': 'FUEVN100 ETF Stock Price History.csv',\n",
    "    'sentiment_analysis': 'vn_economic_articles_all_sentiments.csv'\n",
    "}\n",
    "\n",
    "# Tải và xử lý dữ liệu cổ phiếu\n",
    "data_frames = {}\n",
    "for symbol, path in file_paths.items():\n",
    "    df = pd.read_csv(path)\n",
    "    if symbol != 'sentiment_analysis':\n",
    "        df['Date'] = pd.to_datetime(df['Date'])\n",
    "        df['Symbol'] = symbol.upper()\n",
    "        price_columns = ['Price', 'Open', 'High', 'Low']\n",
    "        for column in price_columns:\n",
    "            if column in df.columns:\n",
    "                df[column] = df[column].str.replace(',', '').astype(float)\n",
    "        scaler = MinMaxScaler(feature_range=(0, 100))\n",
    "        df[price_columns] = scaler.fit_transform(df[price_columns])\n",
    "    data_frames[symbol] = df\n",
    "\n",
    "# Xử lý dữ liệu phân tích tình cảm\n",
    "sentiment_data = data_frames['sentiment_analysis']\n",
    "sentiment_data['Time'] = pd.to_datetime(sentiment_data['Time'])\n",
    "daily_sentiment = sentiment_data.groupby('Time').agg({\n",
    "    'Vader_Sentiment': 'mean',\n",
    "    'TextBlob_Sentiment': 'mean',\n",
    "    'FinBERT_Sentiment': lambda x: x.mode().iloc[0]\n",
    "}).reset_index()\n",
    "daily_sentiment.rename(columns={'Time': 'Date'}, inplace=True)\n",
    "\n",
    "# Kết hợp tất cả dữ liệu cổ phiếu và phân tích tình cảm\n",
    "combined_stock_data = pd.concat([df for symbol, df in data_frames.items() if symbol != 'sentiment_analysis'])\n",
    "final_combined_data = pd.merge(combined_stock_data, daily_sentiment, on='Date', how='inner')\n",
    "\n",
    "# Lưu dữ liệu đã xử lý vào một tệp CSV\n",
    "processed_csv_path = 'processed_financial_sentiment_data_combined.csv'\n",
    "final_combined_data.to_csv(processed_csv_path, index=False)\n",
    "\n",
    "# Đường dẫn tệp CSV đã xử lý\n",
    "processed_csv_path\n"
   ]
  }
 ],
 "metadata": {
  "kernelspec": {
   "display_name": "Python 3",
   "language": "python",
   "name": "python3"
  },
  "language_info": {
   "codemirror_mode": {
    "name": "ipython",
    "version": 3
   },
   "file_extension": ".py",
   "mimetype": "text/x-python",
   "name": "python",
   "nbconvert_exporter": "python",
   "pygments_lexer": "ipython3",
   "version": "3.12.3"
  }
 },
 "nbformat": 4,
 "nbformat_minor": 2
}
